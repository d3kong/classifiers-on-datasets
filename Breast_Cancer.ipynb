{
 "cells": [
  {
   "cell_type": "code",
   "execution_count": 35,
   "id": "51c6ad84-ddec-43b1-b4d3-a16a6351c1cb",
   "metadata": {},
   "outputs": [
    {
     "name": "stdout",
     "output_type": "stream",
     "text": [
      "Requirement already satisfied: ucimlrepo in /Users/danielkong/miniforge3/envs/cogs118a/lib/python3.12/site-packages (0.0.7)\n",
      "Requirement already satisfied: pandas>=1.0.0 in /Users/danielkong/miniforge3/envs/cogs118a/lib/python3.12/site-packages (from ucimlrepo) (2.2.3)\n",
      "Requirement already satisfied: certifi>=2020.12.5 in /Users/danielkong/miniforge3/envs/cogs118a/lib/python3.12/site-packages (from ucimlrepo) (2024.8.30)\n",
      "Requirement already satisfied: numpy>=1.26.0 in /Users/danielkong/miniforge3/envs/cogs118a/lib/python3.12/site-packages (from pandas>=1.0.0->ucimlrepo) (2.1.2)\n",
      "Requirement already satisfied: python-dateutil>=2.8.2 in /Users/danielkong/miniforge3/envs/cogs118a/lib/python3.12/site-packages (from pandas>=1.0.0->ucimlrepo) (2.9.0)\n",
      "Requirement already satisfied: pytz>=2020.1 in /Users/danielkong/miniforge3/envs/cogs118a/lib/python3.12/site-packages (from pandas>=1.0.0->ucimlrepo) (2024.2)\n",
      "Requirement already satisfied: tzdata>=2022.7 in /Users/danielkong/miniforge3/envs/cogs118a/lib/python3.12/site-packages (from pandas>=1.0.0->ucimlrepo) (2024.2)\n",
      "Requirement already satisfied: six>=1.5 in /Users/danielkong/miniforge3/envs/cogs118a/lib/python3.12/site-packages (from python-dateutil>=2.8.2->pandas>=1.0.0->ucimlrepo) (1.16.0)\n",
      "Note: you may need to restart the kernel to use updated packages.\n"
     ]
    }
   ],
   "source": [
    "pip install ucimlrepo"
   ]
  },
  {
   "cell_type": "code",
   "execution_count": 41,
   "id": "f3b12eac-2be8-4513-a160-9dd64340ac7e",
   "metadata": {},
   "outputs": [],
   "source": [
    "import pandas as pd\n",
    "import numpy as np\n",
    "import matplotlib.pyplot as plt\n",
    "\n",
    "from ucimlrepo import fetch_ucirepo\n",
    "\n",
    "from sklearn.model_selection import train_test_split, cross_val_score\n",
    "from sklearn.ensemble import RandomForestClassifier, GradientBoostingClassifier\n",
    "from sklearn.linear_model import LogisticRegression\n",
    "from sklearn.metrics import accuracy_score\n",
    "from sklearn.preprocessing import LabelEncoder, StandardScaler"
   ]
  },
  {
   "cell_type": "code",
   "execution_count": 37,
   "id": "1bfe3998-d108-42c5-8f53-05a6bf8c7a58",
   "metadata": {},
   "outputs": [
    {
     "name": "stdout",
     "output_type": "stream",
     "text": [
      "{'uci_id': 17, 'name': 'Breast Cancer Wisconsin (Diagnostic)', 'repository_url': 'https://archive.ics.uci.edu/dataset/17/breast+cancer+wisconsin+diagnostic', 'data_url': 'https://archive.ics.uci.edu/static/public/17/data.csv', 'abstract': 'Diagnostic Wisconsin Breast Cancer Database.', 'area': 'Health and Medicine', 'tasks': ['Classification'], 'characteristics': ['Multivariate'], 'num_instances': 569, 'num_features': 30, 'feature_types': ['Real'], 'demographics': [], 'target_col': ['Diagnosis'], 'index_col': ['ID'], 'has_missing_values': 'no', 'missing_values_symbol': None, 'year_of_dataset_creation': 1993, 'last_updated': 'Fri Nov 03 2023', 'dataset_doi': '10.24432/C5DW2B', 'creators': ['William Wolberg', 'Olvi Mangasarian', 'Nick Street', 'W. Street'], 'intro_paper': {'ID': 230, 'type': 'NATIVE', 'title': 'Nuclear feature extraction for breast tumor diagnosis', 'authors': 'W. Street, W. Wolberg, O. Mangasarian', 'venue': 'Electronic imaging', 'year': 1993, 'journal': None, 'DOI': '10.1117/12.148698', 'URL': 'https://www.semanticscholar.org/paper/53f0fbb425bc14468eb3bf96b2e1d41ba8087f36', 'sha': None, 'corpus': None, 'arxiv': None, 'mag': None, 'acl': None, 'pmid': None, 'pmcid': None}, 'additional_info': {'summary': 'Features are computed from a digitized image of a fine needle aspirate (FNA) of a breast mass.  They describe characteristics of the cell nuclei present in the image. A few of the images can be found at http://www.cs.wisc.edu/~street/images/\\r\\n\\r\\nSeparating plane described above was obtained using Multisurface Method-Tree (MSM-T) [K. P. Bennett, \"Decision Tree Construction Via Linear Programming.\" Proceedings of the 4th Midwest Artificial Intelligence and Cognitive Science Society, pp. 97-101, 1992], a classification method which uses linear programming to construct a decision tree.  Relevant features were selected using an exhaustive search in the space of 1-4 features and 1-3 separating planes.\\r\\n\\r\\nThe actual linear program used to obtain the separating plane in the 3-dimensional space is that described in: [K. P. Bennett and O. L. Mangasarian: \"Robust Linear Programming Discrimination of Two Linearly Inseparable Sets\", Optimization Methods and Software 1, 1992, 23-34].\\r\\n\\r\\nThis database is also available through the UW CS ftp server:\\r\\nftp ftp.cs.wisc.edu\\r\\ncd math-prog/cpo-dataset/machine-learn/WDBC/', 'purpose': None, 'funded_by': None, 'instances_represent': None, 'recommended_data_splits': None, 'sensitive_data': None, 'preprocessing_description': None, 'variable_info': '1) ID number\\r\\n2) Diagnosis (M = malignant, B = benign)\\r\\n3-32)\\r\\n\\r\\nTen real-valued features are computed for each cell nucleus:\\r\\n\\r\\n\\ta) radius (mean of distances from center to points on the perimeter)\\r\\n\\tb) texture (standard deviation of gray-scale values)\\r\\n\\tc) perimeter\\r\\n\\td) area\\r\\n\\te) smoothness (local variation in radius lengths)\\r\\n\\tf) compactness (perimeter^2 / area - 1.0)\\r\\n\\tg) concavity (severity of concave portions of the contour)\\r\\n\\th) concave points (number of concave portions of the contour)\\r\\n\\ti) symmetry \\r\\n\\tj) fractal dimension (\"coastline approximation\" - 1)', 'citation': None}}\n",
      "                  name     role         type demographic description units  \\\n",
      "0                   ID       ID  Categorical        None        None  None   \n",
      "1            Diagnosis   Target  Categorical        None        None  None   \n",
      "2              radius1  Feature   Continuous        None        None  None   \n",
      "3             texture1  Feature   Continuous        None        None  None   \n",
      "4           perimeter1  Feature   Continuous        None        None  None   \n",
      "5                area1  Feature   Continuous        None        None  None   \n",
      "6          smoothness1  Feature   Continuous        None        None  None   \n",
      "7         compactness1  Feature   Continuous        None        None  None   \n",
      "8           concavity1  Feature   Continuous        None        None  None   \n",
      "9      concave_points1  Feature   Continuous        None        None  None   \n",
      "10           symmetry1  Feature   Continuous        None        None  None   \n",
      "11  fractal_dimension1  Feature   Continuous        None        None  None   \n",
      "12             radius2  Feature   Continuous        None        None  None   \n",
      "13            texture2  Feature   Continuous        None        None  None   \n",
      "14          perimeter2  Feature   Continuous        None        None  None   \n",
      "15               area2  Feature   Continuous        None        None  None   \n",
      "16         smoothness2  Feature   Continuous        None        None  None   \n",
      "17        compactness2  Feature   Continuous        None        None  None   \n",
      "18          concavity2  Feature   Continuous        None        None  None   \n",
      "19     concave_points2  Feature   Continuous        None        None  None   \n",
      "20           symmetry2  Feature   Continuous        None        None  None   \n",
      "21  fractal_dimension2  Feature   Continuous        None        None  None   \n",
      "22             radius3  Feature   Continuous        None        None  None   \n",
      "23            texture3  Feature   Continuous        None        None  None   \n",
      "24          perimeter3  Feature   Continuous        None        None  None   \n",
      "25               area3  Feature   Continuous        None        None  None   \n",
      "26         smoothness3  Feature   Continuous        None        None  None   \n",
      "27        compactness3  Feature   Continuous        None        None  None   \n",
      "28          concavity3  Feature   Continuous        None        None  None   \n",
      "29     concave_points3  Feature   Continuous        None        None  None   \n",
      "30           symmetry3  Feature   Continuous        None        None  None   \n",
      "31  fractal_dimension3  Feature   Continuous        None        None  None   \n",
      "\n",
      "   missing_values  \n",
      "0              no  \n",
      "1              no  \n",
      "2              no  \n",
      "3              no  \n",
      "4              no  \n",
      "5              no  \n",
      "6              no  \n",
      "7              no  \n",
      "8              no  \n",
      "9              no  \n",
      "10             no  \n",
      "11             no  \n",
      "12             no  \n",
      "13             no  \n",
      "14             no  \n",
      "15             no  \n",
      "16             no  \n",
      "17             no  \n",
      "18             no  \n",
      "19             no  \n",
      "20             no  \n",
      "21             no  \n",
      "22             no  \n",
      "23             no  \n",
      "24             no  \n",
      "25             no  \n",
      "26             no  \n",
      "27             no  \n",
      "28             no  \n",
      "29             no  \n",
      "30             no  \n",
      "31             no  \n"
     ]
    }
   ],
   "source": [
    "# fetch dataset \n",
    "breast_cancer_wisconsin_diagnostic = fetch_ucirepo(id=17) \n",
    "  \n",
    "# data (as pandas dataframes) \n",
    "X = breast_cancer_wisconsin_diagnostic.data.features \n",
    "y = breast_cancer_wisconsin_diagnostic.data.targets \n",
    "  \n",
    "# metadata \n",
    "print(breast_cancer_wisconsin_diagnostic.metadata) \n",
    "  \n",
    "# variable information \n",
    "print(breast_cancer_wisconsin_diagnostic.variables) "
   ]
  },
  {
   "cell_type": "markdown",
   "id": "a9992800-d06f-4890-902f-dd75403bf473",
   "metadata": {},
   "source": [
    "## Preprocessing the Data"
   ]
  },
  {
   "cell_type": "code",
   "execution_count": 44,
   "id": "ab1f5ffd-719a-4930-890c-c632eb61fc1b",
   "metadata": {},
   "outputs": [],
   "source": [
    "if isinstance(y, pd.DataFrame):\n",
    "    # If y is a DataFrame\n",
    "    if y.iloc[:, 0].dtype == 'object':\n",
    "        y = LabelEncoder().fit_transform(y.iloc[:, 0])\n",
    "else:\n",
    "    # If y is a Series\n",
    "    if y.dtype == 'object':\n",
    "        y = LabelEncoder().fit_transform(y)\n",
    "\n",
    "# Scale features\n",
    "scaler = StandardScaler()\n",
    "X_scaled = scaler.fit_transform(X)"
   ]
  },
  {
   "cell_type": "markdown",
   "id": "ee2acb5d-1bb2-4f38-841b-6036621e12d4",
   "metadata": {},
   "source": [
    "## Define Splits and Initialize Results"
   ]
  },
  {
   "cell_type": "code",
   "execution_count": 45,
   "id": "d98dd93c-9bf6-4fbb-8203-b5f968394a83",
   "metadata": {},
   "outputs": [],
   "source": [
    "splits = [(0.2, 0.8), (0.5, 0.5), (0.8, 0.2)]\n",
    "trials = 3  # Number of trials\n",
    "results = {}\n",
    "\n",
    "for train_size, test_size in splits:\n",
    "    split_results = {clf_name: [] for clf_name in [\"Random Forest\", \"Gradient Boosting\", \"Logistic Regression\"]}\n",
    "\n",
    "    # Perform multiple trials\n",
    "    for trial in range(trials):\n",
    "        # Split data\n",
    "        X_train, X_test, y_train, y_test = train_test_split(\n",
    "            X_scaled, y, train_size=train_size, test_size=test_size, random_state=42 + trial\n",
    "        )\n",
    "\n",
    "        # Define classifiers\n",
    "        classifiers = {\n",
    "            \"Random Forest\": RandomForestClassifier(n_estimators=100),\n",
    "            \"Gradient Boosting\": GradientBoostingClassifier(),\n",
    "            \"Logistic Regression\": LogisticRegression(max_iter=1000, solver='saga')\n",
    "        }\n",
    "\n",
    "        # Train and evaluate classifiers\n",
    "        for clf_name, clf in classifiers.items():\n",
    "            # Cross-validation for hyperparameter tuning\n",
    "            cv_scores = cross_val_score(clf, X_train, y_train, cv=5)\n",
    "\n",
    "            # Train the classifier\n",
    "            clf.fit(X_train, y_train)\n",
    "\n",
    "            # Evaluate on the test set\n",
    "            y_pred = clf.predict(X_test)\n",
    "            test_accuracy = accuracy_score(y_test, y_pred)\n",
    "\n",
    "            # Store results for this trial\n",
    "            split_results[clf_name].append({\n",
    "                \"CV Accuracy (Mean)\": cv_scores.mean(),\n",
    "                \"CV Accuracy (Std)\": cv_scores.std(),\n",
    "                \"Test Accuracy\": test_accuracy\n",
    "            })\n",
    "\n",
    "    # Average results across trials\n",
    "    results[f\"Train {int(train_size*100)}% / Test {int(test_size*100)}%\"] = {\n",
    "        clf_name: {\n",
    "            metric: np.mean([trial_result[metric] for trial_result in metrics])\n",
    "            for metric in metrics[0]\n",
    "        }\n",
    "        for clf_name, metrics in split_results.items()\n",
    "    }"
   ]
  },
  {
   "cell_type": "markdown",
   "id": "3aef0a6c-db1d-4bd9-a341-ada5f3b808d9",
   "metadata": {},
   "source": [
    "## Display Results"
   ]
  },
  {
   "cell_type": "code",
   "execution_count": 46,
   "id": "4efd5294-4a71-4b19-8b33-dbca8c361989",
   "metadata": {},
   "outputs": [
    {
     "name": "stdout",
     "output_type": "stream",
     "text": [
      "Results for Train 20% / Test 80% split:\n",
      "  Random Forest:\n",
      "    CV Accuracy (Mean): 0.9200\n",
      "    CV Accuracy (Std): 0.0487\n",
      "    Test Accuracy: 0.9620\n",
      "  Gradient Boosting:\n",
      "    CV Accuracy (Mean): 0.9112\n",
      "    CV Accuracy (Std): 0.0402\n",
      "    Test Accuracy: 0.9152\n",
      "  Logistic Regression:\n",
      "    CV Accuracy (Mean): 0.9704\n",
      "    CV Accuracy (Std): 0.0243\n",
      "    Test Accuracy: 0.9649\n",
      "\n",
      "\n",
      "Results for Train 50% / Test 50% split:\n",
      "  Random Forest:\n",
      "    CV Accuracy (Mean): 0.9495\n",
      "    CV Accuracy (Std): 0.0284\n",
      "    Test Accuracy: 0.9637\n",
      "  Gradient Boosting:\n",
      "    CV Accuracy (Mean): 0.9505\n",
      "    CV Accuracy (Std): 0.0292\n",
      "    Test Accuracy: 0.9602\n",
      "  Logistic Regression:\n",
      "    CV Accuracy (Mean): 0.9777\n",
      "    CV Accuracy (Std): 0.0167\n",
      "    Test Accuracy: 0.9743\n",
      "\n",
      "\n",
      "Results for Train 80% / Test 20% split:\n",
      "  Random Forest:\n",
      "    CV Accuracy (Mean): 0.9531\n",
      "    CV Accuracy (Std): 0.0184\n",
      "    Test Accuracy: 0.9737\n",
      "  Gradient Boosting:\n",
      "    CV Accuracy (Mean): 0.9531\n",
      "    CV Accuracy (Std): 0.0166\n",
      "    Test Accuracy: 0.9708\n",
      "  Logistic Regression:\n",
      "    CV Accuracy (Mean): 0.9773\n",
      "    CV Accuracy (Std): 0.0182\n",
      "    Test Accuracy: 0.9795\n",
      "\n",
      "\n"
     ]
    }
   ],
   "source": [
    "for split, split_results in results.items():\n",
    "    print(f\"Results for {split} split:\")\n",
    "    for clf_name, metrics in split_results.items():\n",
    "        print(f\"  {clf_name}:\")\n",
    "        for metric, value in metrics.items():\n",
    "            print(f\"    {metric}: {value:.4f}\")\n",
    "    print(\"\\n\")"
   ]
  },
  {
   "cell_type": "code",
   "execution_count": null,
   "id": "a6048bb4-9f41-436b-99ca-076041701137",
   "metadata": {},
   "outputs": [],
   "source": []
  }
 ],
 "metadata": {
  "kernelspec": {
   "display_name": "Python 3 (ipykernel)",
   "language": "python",
   "name": "python3"
  },
  "language_info": {
   "codemirror_mode": {
    "name": "ipython",
    "version": 3
   },
   "file_extension": ".py",
   "mimetype": "text/x-python",
   "name": "python",
   "nbconvert_exporter": "python",
   "pygments_lexer": "ipython3",
   "version": "3.12.5"
  }
 },
 "nbformat": 4,
 "nbformat_minor": 5
}
