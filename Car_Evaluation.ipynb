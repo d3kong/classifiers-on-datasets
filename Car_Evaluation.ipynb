{
 "cells": [
  {
   "cell_type": "code",
   "execution_count": 32,
   "id": "040e46cf-1f92-4d1e-ae09-3938a6f3af42",
   "metadata": {},
   "outputs": [],
   "source": [
    "import pandas as pd\n",
    "import numpy as np\n",
    "import matplotlib.pyplot as plt\n",
    "\n",
    "from ucimlrepo import fetch_ucirepo\n",
    "\n",
    "from sklearn.model_selection import train_test_split, cross_val_score\n",
    "from sklearn.tree import DecisionTreeClassifier\n",
    "from sklearn.ensemble import RandomForestClassifier\n",
    "from sklearn.svm import SVC\n",
    "from sklearn.metrics import accuracy_score\n",
    "from sklearn.preprocessing import LabelEncoder"
   ]
  },
  {
   "cell_type": "code",
   "execution_count": 33,
   "id": "62521469-6ab1-4402-a483-3ca8d23f5703",
   "metadata": {},
   "outputs": [
    {
     "name": "stdout",
     "output_type": "stream",
     "text": [
      "{'uci_id': 19, 'name': 'Car Evaluation', 'repository_url': 'https://archive.ics.uci.edu/dataset/19/car+evaluation', 'data_url': 'https://archive.ics.uci.edu/static/public/19/data.csv', 'abstract': 'Derived from simple hierarchical decision model, this database may be useful for testing constructive induction and structure discovery methods.', 'area': 'Other', 'tasks': ['Classification'], 'characteristics': ['Multivariate'], 'num_instances': 1728, 'num_features': 6, 'feature_types': ['Categorical'], 'demographics': [], 'target_col': ['class'], 'index_col': None, 'has_missing_values': 'no', 'missing_values_symbol': None, 'year_of_dataset_creation': 1988, 'last_updated': 'Thu Aug 10 2023', 'dataset_doi': '10.24432/C5JP48', 'creators': ['Marko Bohanec'], 'intro_paper': {'ID': 249, 'type': 'NATIVE', 'title': 'Knowledge acquisition and explanation for multi-attribute decision making', 'authors': 'M. Bohanec, V. Rajkovič', 'venue': '8th Intl Workshop on Expert Systems and their Applications, Avignon, France', 'year': 1988, 'journal': None, 'DOI': None, 'URL': 'https://www.semanticscholar.org/paper/KNOWLEDGE-ACQUISITION-AND-EXPLANATION-FOR-DECISION-Bohanec-Rajkovi%C4%8D/8bab443ae322ff47c3e609272bd93fd4650555bc', 'sha': None, 'corpus': None, 'arxiv': None, 'mag': None, 'acl': None, 'pmid': None, 'pmcid': None}, 'additional_info': {'summary': 'Car Evaluation Database was derived from a simple hierarchical decision model originally developed for the demonstration of DEX, M. Bohanec, V. Rajkovic: Expert system for decision making. Sistemica 1(1), pp. 145-157, 1990.). The model evaluates cars according to the following concept structure:\\r\\n\\r\\nCAR                      car acceptability\\r\\n. PRICE                  overall price\\r\\n. . buying               buying price\\r\\n. . maint                price of the maintenance\\r\\n. TECH                   technical characteristics\\r\\n. . COMFORT              comfort\\r\\n. . . doors              number of doors\\r\\n. . . persons            capacity in terms of persons to carry\\r\\n. . . lug_boot           the size of luggage boot\\r\\n. . safety               estimated safety of the car\\r\\n\\r\\nInput attributes are printed in lowercase. Besides the target concept (CAR), the model includes three intermediate concepts: PRICE, TECH, COMFORT. Every concept is in the original model related to its lower level descendants by a set of examples (for these examples sets see http://www-ai.ijs.si/BlazZupan/car.html).\\r\\n\\r\\nThe Car Evaluation Database contains examples with the structural information removed, i.e., directly relates CAR to the six input attributes: buying, maint, doors, persons, lug_boot, safety.\\r\\n\\r\\nBecause of known underlying concept structure, this database may be particularly useful for testing constructive induction and structure discovery methods.\\r\\n', 'purpose': None, 'funded_by': None, 'instances_represent': None, 'recommended_data_splits': None, 'sensitive_data': None, 'preprocessing_description': None, 'variable_info': 'buying:   vhigh, high, med, low.\\nmaint:    vhigh, high, med, low.\\ndoors:    2, 3, 4, 5more.\\npersons:  2, 4, more.\\nlug_boot: small, med, big.\\nsafety:   low, med, high.', 'citation': None}}\n",
      "       name     role         type demographic  \\\n",
      "0    buying  Feature  Categorical        None   \n",
      "1     maint  Feature  Categorical        None   \n",
      "2     doors  Feature  Categorical        None   \n",
      "3   persons  Feature  Categorical        None   \n",
      "4  lug_boot  Feature  Categorical        None   \n",
      "5    safety  Feature  Categorical        None   \n",
      "6     class   Target  Categorical        None   \n",
      "\n",
      "                                         description units missing_values  \n",
      "0                                       buying price  None             no  \n",
      "1                           price of the maintenance  None             no  \n",
      "2                                    number of doors  None             no  \n",
      "3              capacity in terms of persons to carry  None             no  \n",
      "4                           the size of luggage boot  None             no  \n",
      "5                        estimated safety of the car  None             no  \n",
      "6  evaulation level (unacceptable, acceptable, go...  None             no  \n"
     ]
    }
   ],
   "source": [
    "# fetch dataset \n",
    "car_evaluation = fetch_ucirepo(id=19) \n",
    "  \n",
    "# data (as pandas dataframes) \n",
    "X = car_evaluation.data.features \n",
    "y = car_evaluation.data.targets \n",
    "  \n",
    "# metadata \n",
    "print(car_evaluation.metadata) \n",
    "  \n",
    "# variable information \n",
    "print(car_evaluation.variables) "
   ]
  },
  {
   "cell_type": "markdown",
   "id": "8cbd2933-ab06-4ea1-b2d1-980d3928e813",
   "metadata": {},
   "source": [
    "## Preprocessing the Data"
   ]
  },
  {
   "cell_type": "code",
   "execution_count": 34,
   "id": "457c31aa-f25a-4fbc-bd16-e793b585a537",
   "metadata": {},
   "outputs": [],
   "source": [
    "y_binary = y.iloc[:, 0].apply(lambda label: 1 if label in ['good', 'vgood'] else 0)\n",
    "\n",
    "for column in X.columns:\n",
    "    if X[column].dtype == 'object':\n",
    "        X.loc[:, column] = LabelEncoder().fit_transform(X[column])"
   ]
  },
  {
   "cell_type": "markdown",
   "id": "29ee0b99-33be-48ae-8346-2dcc49caf69a",
   "metadata": {},
   "source": [
    "## Split data into Training and Test sets, Train and Evaluate Classifiers"
   ]
  },
  {
   "cell_type": "code",
   "execution_count": 35,
   "id": "55b2cfbc-39dc-4272-bc15-3a688a9d7c04",
   "metadata": {},
   "outputs": [],
   "source": [
    "splits = [(0.2, 0.8), (0.5, 0.5), (0.8, 0.2)]\n",
    "trials = 3\n",
    "results = {}\n",
    "\n",
    "\n",
    "for train_size, test_size in splits:\n",
    "    split_results = {clf_name: [] for clf_name in [\"Decision Tree\", \"Random Forest\", \"SVM\"]}\n",
    "\n",
    "    # Perform multiple trials\n",
    "    for trial in range(trials):\n",
    "        # Split data\n",
    "        X_train, X_test, y_train, y_test = train_test_split(\n",
    "            X, y_binary, train_size=train_size, test_size=test_size, random_state=42 + trial\n",
    "        )\n",
    "\n",
    "        # Define classifiers\n",
    "        classifiers = {\n",
    "            \"Decision Tree\": DecisionTreeClassifier(),\n",
    "            \"Random Forest\": RandomForestClassifier(n_estimators=100),\n",
    "            \"SVM\": SVC(kernel='linear')\n",
    "        }\n",
    "\n",
    "        # Train and evaluate classifiers\n",
    "        for clf_name, clf in classifiers.items():\n",
    "            # Cross-validation for hyperparameter tuning\n",
    "            cv_scores = cross_val_score(clf, X_train, y_train, cv=5)\n",
    "\n",
    "            # Train the classifier\n",
    "            clf.fit(X_train, y_train)\n",
    "\n",
    "            # Evaluate on the test set\n",
    "            y_pred = clf.predict(X_test)\n",
    "            test_accuracy = accuracy_score(y_test, y_pred)\n",
    "\n",
    "            # Store results for this trial\n",
    "            split_results[clf_name].append({\n",
    "                \"CV Accuracy (Mean)\": cv_scores.mean(),\n",
    "                \"CV Accuracy (Std)\": cv_scores.std(),\n",
    "                \"Test Accuracy\": test_accuracy\n",
    "            })\n",
    "\n",
    "    # Average results across trials\n",
    "    results[f\"Train {int(train_size*100)}% / Test {int(test_size*100)}%\"] = {\n",
    "        clf_name: {\n",
    "            metric: np.mean([trial_result[metric] for trial_result in metrics])\n",
    "            for metric in metrics[0]\n",
    "        }\n",
    "        for clf_name, metrics in split_results.items()\n",
    "    }"
   ]
  },
  {
   "cell_type": "markdown",
   "id": "19694604-dc6f-4729-99bf-a3ea7689bbc5",
   "metadata": {},
   "source": [
    "## Display Results"
   ]
  },
  {
   "cell_type": "code",
   "execution_count": 36,
   "id": "cfefe9c0-a240-41fc-b555-0187b699dedf",
   "metadata": {},
   "outputs": [
    {
     "name": "stdout",
     "output_type": "stream",
     "text": [
      "Results for Train 20% / Test 80% split:\n",
      "  Decision Tree:\n",
      "    CV Accuracy (Mean): 0.9469\n",
      "    CV Accuracy (Std): 0.0347\n",
      "    Test Accuracy: 0.9605\n",
      "  Random Forest:\n",
      "    CV Accuracy (Mean): 0.9556\n",
      "    CV Accuracy (Std): 0.0173\n",
      "    Test Accuracy: 0.9677\n",
      "  SVM:\n",
      "    CV Accuracy (Mean): 0.9082\n",
      "    CV Accuracy (Std): 0.0047\n",
      "    Test Accuracy: 0.9260\n",
      "\n",
      "\n",
      "Results for Train 50% / Test 50% split:\n",
      "  Decision Tree:\n",
      "    CV Accuracy (Mean): 0.9823\n",
      "    CV Accuracy (Std): 0.0088\n",
      "    Test Accuracy: 0.9815\n",
      "  Random Forest:\n",
      "    CV Accuracy (Mean): 0.9707\n",
      "    CV Accuracy (Std): 0.0088\n",
      "    Test Accuracy: 0.9807\n",
      "  SVM:\n",
      "    CV Accuracy (Mean): 0.9236\n",
      "    CV Accuracy (Std): 0.0027\n",
      "    Test Accuracy: 0.9213\n",
      "\n",
      "\n",
      "Results for Train 80% / Test 20% split:\n",
      "  Decision Tree:\n",
      "    CV Accuracy (Mean): 0.9879\n",
      "    CV Accuracy (Std): 0.0084\n",
      "    Test Accuracy: 0.9817\n",
      "  Random Forest:\n",
      "    CV Accuracy (Mean): 0.9824\n",
      "    CV Accuracy (Std): 0.0093\n",
      "    Test Accuracy: 0.9827\n",
      "  SVM:\n",
      "    CV Accuracy (Mean): 0.9235\n",
      "    CV Accuracy (Std): 0.0016\n",
      "    Test Accuracy: 0.9181\n",
      "\n",
      "\n"
     ]
    }
   ],
   "source": [
    "for split, split_results in results.items():\n",
    "    print(f\"Results for {split} split:\")\n",
    "    for clf_name, metrics in split_results.items():\n",
    "        print(f\"  {clf_name}:\")\n",
    "        for metric, value in metrics.items():\n",
    "            print(f\"    {metric}: {value:.4f}\")\n",
    "    print(\"\\n\")"
   ]
  },
  {
   "cell_type": "code",
   "execution_count": null,
   "id": "ea3ac9ff-f3d0-48ee-87d7-0d641e19b76c",
   "metadata": {},
   "outputs": [],
   "source": []
  }
 ],
 "metadata": {
  "kernelspec": {
   "display_name": "Python 3 (ipykernel)",
   "language": "python",
   "name": "python3"
  },
  "language_info": {
   "codemirror_mode": {
    "name": "ipython",
    "version": 3
   },
   "file_extension": ".py",
   "mimetype": "text/x-python",
   "name": "python",
   "nbconvert_exporter": "python",
   "pygments_lexer": "ipython3",
   "version": "3.12.5"
  }
 },
 "nbformat": 4,
 "nbformat_minor": 5
}
